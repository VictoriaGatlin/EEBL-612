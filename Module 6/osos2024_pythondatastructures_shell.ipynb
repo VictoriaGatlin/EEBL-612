{
 "cells": [
  {
   "cell_type": "markdown",
   "id": "d7777071",
   "metadata": {},
   "source": [
    "# 2. Python data structures"
   ]
  },
  {
   "cell_type": "markdown",
   "id": "3735d3e3-ed37-4f2d-ad8c-74981f50b5e9",
   "metadata": {},
   "source": [
    "This notebook follows Chapter 2 in the [Python Workshop textbook](https://search.ebscohost.com/login.aspx?direct=true&db=edsool&AN=edsool.9781804610619&site=eds-live&scope=site&authtype=shib&custid=s8516548). An electronic version of this book is freely available from the library after logging in with TAMU credentials!"
   ]
  },
  {
   "cell_type": "code",
   "execution_count": null,
   "id": "319d315c",
   "metadata": {},
   "outputs": [],
   "source": [
    "from IPython.core.interactiveshell import InteractiveShell\n",
    "InteractiveShell.ast_node_interactivity = \"all\""
   ]
  },
  {
   "cell_type": "markdown",
   "id": "8433e9ef",
   "metadata": {},
   "source": [
    "There are four types of basic data structures in Python: **list, tuple, dictionary** and **set**.  Each data structure has a set of operations that can be performed on data contained in the structure.  In the following sections, we will introduce these structures and how to manipulate them within Python."
   ]
  },
  {
   "cell_type": "markdown",
   "id": "a88235fc",
   "metadata": {},
   "source": [
    "## 2.1 Lists\n",
    "\n",
    "Lists are used to store multiple data sets at the same time and may contain different data types within the same list."
   ]
  },
  {
   "cell_type": "code",
   "execution_count": null,
   "id": "374b8be6",
   "metadata": {},
   "outputs": [],
   "source": []
  },
  {
   "cell_type": "code",
   "execution_count": null,
   "id": "d55de4bd",
   "metadata": {},
   "outputs": [],
   "source": []
  },
  {
   "cell_type": "markdown",
   "id": "f66971ea",
   "metadata": {},
   "source": [
    "Lists are similar to arrays encountered in other programming languages, but differ in that they can contain mixed data types."
   ]
  },
  {
   "cell_type": "code",
   "execution_count": null,
   "id": "a89c9ae6",
   "metadata": {},
   "outputs": [],
   "source": []
  },
  {
   "cell_type": "markdown",
   "id": "73b6e814",
   "metadata": {},
   "source": [
    "### 2.1.1 Nested lists\n",
    "\n",
    "Can we have a 'list of lists'? Yes.  For example, matrices can be stored as nested lists."
   ]
  },
  {
   "cell_type": "code",
   "execution_count": null,
   "id": "7d626f92",
   "metadata": {},
   "outputs": [],
   "source": [
    "#each element in the list of m is a list \n",
    "#containing the row elements for that index\n",
    "\n",
    "#can access elements using [row][column] notation\n",
    "#remember that indices start at 0"
   ]
  },
  {
   "cell_type": "markdown",
   "id": "af788b8f",
   "metadata": {},
   "source": [
    "To iterate over elements of a nested list using for loops, consider the following examples."
   ]
  },
  {
   "cell_type": "code",
   "execution_count": null,
   "id": "676f53c9",
   "metadata": {},
   "outputs": [],
   "source": []
  },
  {
   "cell_type": "code",
   "execution_count": null,
   "id": "ab7900e8",
   "metadata": {},
   "outputs": [],
   "source": []
  },
  {
   "cell_type": "markdown",
   "id": "b73255d6",
   "metadata": {},
   "source": [
    "Note that the first example explicitly states the row and column indices included in the iterations.  This is helpful when you do not want to access every element.  However, the second example spans all rows and columns and does not require us to know the number of rows or columns."
   ]
  },
  {
   "cell_type": "markdown",
   "id": "7696e9ba",
   "metadata": {},
   "source": [
    "### 2.1.2 Basic list operations"
   ]
  },
  {
   "cell_type": "code",
   "execution_count": null,
   "id": "273f82b4",
   "metadata": {},
   "outputs": [],
   "source": [
    "#length\n",
    "\n",
    "#concatenation\n",
    "\n",
    "#repeating elements"
   ]
  },
  {
   "cell_type": "markdown",
   "id": "38fa6076",
   "metadata": {},
   "source": [
    "### 2.1.3 Accessing items in a list"
   ]
  },
  {
   "cell_type": "code",
   "execution_count": null,
   "id": "445ea585",
   "metadata": {},
   "outputs": [],
   "source": []
  },
  {
   "cell_type": "code",
   "execution_count": null,
   "id": "cd728fc6",
   "metadata": {},
   "outputs": [],
   "source": []
  },
  {
   "cell_type": "code",
   "execution_count": null,
   "id": "2b210199",
   "metadata": {},
   "outputs": [],
   "source": []
  },
  {
   "cell_type": "markdown",
   "id": "91a7730b",
   "metadata": {},
   "source": [
    "**Note**: In Python, a positive index counts forward, and a negative index counts backward.  Use negative indices to access elements from the back"
   ]
  },
  {
   "cell_type": "code",
   "execution_count": null,
   "id": "3d05106c",
   "metadata": {},
   "outputs": [],
   "source": []
  },
  {
   "cell_type": "markdown",
   "id": "3b8c7936",
   "metadata": {},
   "source": [
    "### 2.1.4 Adding and inserting items into a list"
   ]
  },
  {
   "cell_type": "code",
   "execution_count": null,
   "id": "0205f4b1",
   "metadata": {},
   "outputs": [],
   "source": []
  },
  {
   "cell_type": "markdown",
   "id": "5fe19408",
   "metadata": {},
   "source": [
    "## 2.2 Dictionaries\n",
    "\n",
    "A Python dictionary is an unordered collection.  They are written with curly brackets and consist of pairs of **keys** and **values**."
   ]
  },
  {
   "cell_type": "code",
   "execution_count": null,
   "id": "1d351e48",
   "metadata": {},
   "outputs": [],
   "source": [
    "email = {\n",
    "    'subject': 'YoUr CaR\\'s WaRrAnTy is about to EXPIYERR!!',\n",
    "    'from': 'dubious_email_address@gmail.com',\n",
    "    'to': 'your_email_address@yahoo.com',\n",
    "    'cc': '',\n",
    "    'bcc': '',\n",
    "    'date_received':'2021-09-30',\n",
    "    'body':\"\"\"We\\'ve been trying to reach you about your car\\'s \n",
    "              warranty.  Please call us at 555-555-5555 \n",
    "              to maintain coverage!\"\"\"\n",
    "}\n",
    "print(email)"
   ]
  },
  {
   "cell_type": "markdown",
   "id": "c6d52e61",
   "metadata": {},
   "source": [
    "**Note**: You might have noticed a resemblance between Python dictionaries and JSON.  Although you can load JSON directly into Python, a Python dictionary is a complete data structure with its own set of algorithms and operations.  JSON is just a string written in a similar format."
   ]
  },
  {
   "cell_type": "markdown",
   "id": "7ae89cea",
   "metadata": {},
   "source": [
    "Dictionaries are like lists and share the following properties:\n",
    "\n",
    "- Both can be used to store values\n",
    "- Both can be changed in place and can grow and shrink on demand\n",
    "- Both can be nested (i.e. lists of lists, dictionaries of dictionaries, lists of dictionaries, dictionaries of lists)\n",
    "\n",
    "The main difference is how elements are **accessed**. List elements are accessed by their position index, while dictionary elements are accessed via keys. \n",
    "\n",
    "Therefore, dictionaries are more suitable for representing collections of labeled items. However, there are some rules to remember:\n",
    "\n",
    "- Keys must be unique (no duplicate keys)\n",
    "- Keys must be immutable (can be a string, number, or a tuple)"
   ]
  },
  {
   "cell_type": "code",
   "execution_count": null,
   "id": "78c32669",
   "metadata": {},
   "outputs": [],
   "source": [
    "#print value for a given key\n",
    "\n",
    "#update a value in place\n"
   ]
  },
  {
   "cell_type": "markdown",
   "id": "aa40738a",
   "metadata": {},
   "source": [
    "Dictionaries are flexible in terms of size"
   ]
  },
  {
   "cell_type": "code",
   "execution_count": null,
   "id": "82ce1ac1",
   "metadata": {},
   "outputs": [],
   "source": [
    "#create dictionary one key-value pair at a time\n",
    "email = {}\n",
    "email['subject'] = 'Your car\\'s warranty is about to expire!'\n",
    "email['from'] = 'dubious_email_address@gmail.com'\n",
    "email['to'] = 'your_email_address@yahoo.com'\n",
    "email['cc'] = ''\n",
    "email['bcc'] = ''\n",
    "email['date_received'] = '2021-09-30'\n",
    "email['body'] = 'We\\'ve been trying to reach you about your car\\'s warranty.  Please call us at 555-555-5555 to maintain coverage!'\n",
    "print(email)"
   ]
  },
  {
   "cell_type": "code",
   "execution_count": null,
   "id": "37dd9bad",
   "metadata": {},
   "outputs": [],
   "source": [
    "#list in a dictionary\n",
    "email['cc'] = ['email1@gmail.com','email2@hotmail.com','email3@aol.com']\n",
    "print(email['cc'])\n",
    "\n",
    "#dictionary in a dictionary\n",
    "email['metadata'] = {\n",
    "    'sender_ip': '132:123:1231:12',\n",
    "    'attachment': True,\n",
    "    'fraud_score': 10\n",
    "}\n",
    "print(email['metadata'])"
   ]
  },
  {
   "cell_type": "markdown",
   "id": "e785ada7",
   "metadata": {},
   "source": [
    "By combining lists and dictionaries sensibly, we can store complex real-world information and model structures directly and easily.  This is one of the main benefits of scripting languages such as Python.\n",
    "\n",
    "For example, a table in a database can be stored as a list with nested dictionaries for each record (see Activity 7)."
   ]
  },
  {
   "cell_type": "markdown",
   "id": "dfce89ce",
   "metadata": {},
   "source": [
    "### 2.2.1 Zipping and unzipping dictionaries using zip()\n",
    "\n",
    "Sometimes you obtain information from multiple lists that need to be aggregated for analysis.  In this case you can use the `zip()` method to aggregate lists and create a zip object, which can then be unzipped into a list, tuple, or dictionary.  This can be useful, especially when converting a list to a dictionary."
   ]
  },
  {
   "cell_type": "code",
   "execution_count": null,
   "id": "94158e11",
   "metadata": {},
   "outputs": [],
   "source": []
  },
  {
   "cell_type": "code",
   "execution_count": null,
   "id": "ee00d23c",
   "metadata": {},
   "outputs": [],
   "source": []
  },
  {
   "cell_type": "code",
   "execution_count": null,
   "id": "0eebcac5",
   "metadata": {},
   "outputs": [],
   "source": []
  },
  {
   "cell_type": "code",
   "execution_count": null,
   "id": "49c1578d",
   "metadata": {},
   "outputs": [],
   "source": []
  },
  {
   "cell_type": "code",
   "execution_count": null,
   "id": "05754002",
   "metadata": {},
   "outputs": [],
   "source": []
  },
  {
   "cell_type": "markdown",
   "id": "b80a6046",
   "metadata": {},
   "source": [
    "### 2.2.2 Dictionary methods"
   ]
  },
  {
   "cell_type": "code",
   "execution_count": null,
   "id": "bdfbc24c",
   "metadata": {},
   "outputs": [],
   "source": [
    " #access values\n",
    " #store values in list (can be for later use)\n",
    " #store keys in list (can be for later use)"
   ]
  },
  {
   "cell_type": "markdown",
   "id": "7a953635",
   "metadata": {},
   "source": [
    "**Note**: You can't directly iterate a dictionary.  You can first convert it to a list of tuples using the `items()` method, then iterate the resulting list and access it."
   ]
  },
  {
   "cell_type": "code",
   "execution_count": null,
   "id": "3fef2f31",
   "metadata": {},
   "outputs": [],
   "source": []
  },
  {
   "cell_type": "markdown",
   "id": "d9061bad",
   "metadata": {},
   "source": [
    "## 2.3 Tuples"
   ]
  },
  {
   "cell_type": "markdown",
   "id": "1238f929",
   "metadata": {},
   "source": [
    "A tuple object is similar to a list, but **it cannot be changed after initialization**.  Use typles to represent fixed collections of items."
   ]
  },
  {
   "cell_type": "code",
   "execution_count": null,
   "id": "373fe59f",
   "metadata": {},
   "outputs": [],
   "source": [
    "weekdays_list = ['Monday', 'Tuesday',\n",
    "                 'Wednesday','Thursday',\n",
    "                 'Friday','Saturday','Sunday']"
   ]
  },
  {
   "cell_type": "markdown",
   "id": "d44df82c",
   "metadata": {},
   "source": [
    "However, this does not guarantee that values will remain unchanged throughout its lifetime.  Lists are **mutable**."
   ]
  },
  {
   "cell_type": "code",
   "execution_count": null,
   "id": "1d2ed9d4",
   "metadata": {},
   "outputs": [],
   "source": []
  },
  {
   "cell_type": "markdown",
   "id": "415e2e13",
   "metadata": {},
   "source": [
    "Tuples on the other hand are **immutable**.  "
   ]
  },
  {
   "cell_type": "code",
   "execution_count": null,
   "id": "cde481c1",
   "metadata": {},
   "outputs": [],
   "source": [
    "weekdays_tup = ('Monday', 'Tuesday',\n",
    "                 'Wednesday','Thursday',\n",
    "                 'Friday','Saturday','Sunday')"
   ]
  },
  {
   "cell_type": "code",
   "execution_count": null,
   "id": "81b1099e",
   "metadata": {},
   "outputs": [],
   "source": []
  },
  {
   "cell_type": "code",
   "execution_count": null,
   "id": "7dc249e2",
   "metadata": {},
   "outputs": [],
   "source": []
  },
  {
   "cell_type": "markdown",
   "id": "bcd6807c",
   "metadata": {},
   "source": [
    "You can't append to a tuple, but you can create a new tuple by concatenating an existing tuple with new items."
   ]
  },
  {
   "cell_type": "code",
   "execution_count": null,
   "id": "c8def378",
   "metadata": {},
   "outputs": [],
   "source": []
  },
  {
   "cell_type": "code",
   "execution_count": null,
   "id": "ff2544a4",
   "metadata": {},
   "outputs": [],
   "source": []
  },
  {
   "cell_type": "markdown",
   "id": "954063b9",
   "metadata": {},
   "source": [
    "Tuples also support mixed data types and nesting."
   ]
  },
  {
   "cell_type": "code",
   "execution_count": null,
   "id": "dc49b47a",
   "metadata": {},
   "outputs": [],
   "source": []
  },
  {
   "cell_type": "markdown",
   "id": "005ec8c4",
   "metadata": {},
   "source": [
    "## 2.4 Sets"
   ]
  },
  {
   "cell_type": "markdown",
   "id": "caa83e12",
   "metadata": {},
   "source": [
    "Sets are relatively new to Python. Sets are unordered collections of **unique** and **immutable** objects that support operations mimicking mathmematical set theory.  Sets can also be used to prevent duplicate values."
   ]
  },
  {
   "cell_type": "code",
   "execution_count": null,
   "id": "aabe4f34",
   "metadata": {},
   "outputs": [],
   "source": [
    "#initialize by passing in a list\n"
   ]
  },
  {
   "cell_type": "code",
   "execution_count": null,
   "id": "7f5d6656",
   "metadata": {},
   "outputs": [],
   "source": [
    "#initialize with curly brackets directly\n"
   ]
  },
  {
   "cell_type": "markdown",
   "id": "44a1ad90",
   "metadata": {},
   "source": [
    "While the objects in a set are immutable, sets are mutable."
   ]
  },
  {
   "cell_type": "code",
   "execution_count": null,
   "id": "27a413ff",
   "metadata": {},
   "outputs": [],
   "source": []
  },
  {
   "cell_type": "markdown",
   "id": "6034f5f6",
   "metadata": {},
   "source": [
    "### 2.4.1 Set operations"
   ]
  },
  {
   "cell_type": "code",
   "execution_count": null,
   "id": "efb9e666",
   "metadata": {},
   "outputs": [],
   "source": [
    "s5,s6 = {1,2,3,4},{3,4,5,6}\n",
    "\n",
    "#unions\n",
    "\n",
    "#intersections\n"
   ]
  },
  {
   "cell_type": "code",
   "execution_count": null,
   "id": "4e97b0ba",
   "metadata": {},
   "outputs": [],
   "source": [
    "s5,s6 = {1,2,3,4},{3,4,5,6}\n",
    "\n",
    "#set minus\n",
    "\n",
    "#check if subset\n",
    "\n",
    "#check if proper subset\n",
    "\n",
    "#check if superset\n"
   ]
  },
  {
   "cell_type": "markdown",
   "id": "2df7a5e4",
   "metadata": {},
   "source": [
    "**Note**: How are sets different from lists and dictionaries?\n",
    " - Sets are different from lists in that they are unordered.  \n",
    " - Sets are different from dictionaries in that they do not map keys to values.  \n",
    " - Sets are neither a sequence or a mapping type; they are a type by themselves."
   ]
  },
  {
   "cell_type": "markdown",
   "id": "d69c0199",
   "metadata": {},
   "source": [
    "## 2.5. Choosing the right structure\n",
    "\n",
    "Here are some general guidelines for choosing the right structure (based on their unique characteristics):\n",
    " \n",
    " - Lists are used to store multiple objects and retain a sequence\n",
    " - Dictionaries store unique key-value pair mappings\n",
    " - Tuples are immutable\n",
    " - Sets only store unique elements\n",
    " \n",
    "Choosing an inappropriate data structure could lead to low efficiency when running code, security issues, and data loss.  Choose wisely!"
   ]
  }
 ],
 "metadata": {
  "kernelspec": {
   "display_name": "Python 3 (ipykernel)",
   "language": "python",
   "name": "python3"
  },
  "language_info": {
   "codemirror_mode": {
    "name": "ipython",
    "version": 3
   },
   "file_extension": ".py",
   "mimetype": "text/x-python",
   "name": "python",
   "nbconvert_exporter": "python",
   "pygments_lexer": "ipython3",
   "version": "3.11.9"
  }
 },
 "nbformat": 4,
 "nbformat_minor": 5
}
